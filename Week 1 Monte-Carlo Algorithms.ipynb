{
 "cells": [
  {
   "cell_type": "code",
   "execution_count": 1,
   "metadata": {},
   "outputs": [],
   "source": [
    "import random, pylab, math\n",
    "import numpy as np\n",
    "import matplotlib.pyplot as plt"
   ]
  },
  {
   "cell_type": "markdown",
   "metadata": {},
   "source": [
    "# Lecture 1: Introduction to Monte-Carlo Algorithm"
   ]
  },
  {
   "cell_type": "markdown",
   "metadata": {},
   "source": [
    "Derive a crucial theorem about the convergence of Monte Carlo algorithms using 3x3 pebble game. \n",
    "\n",
    "## 1. Direct Sampling\n",
    "Throw pebbles randomly into the square. Each pebble inside the square counts as a 'trial', and each pebble inside the circle counts as a 'hit'. It can be used to compute the number 'Pi'.[Fig. 1]\n",
    "$$\n",
    "\\frac{A_{circule}}{A_{square}}=\\frac{\\pi}{4} \\hskip2mm \\Longrightarrow \\hskip2mm \\pi=4\\cdot\\frac{A_{circle}}{A_{square}} \\approx 4\\cdot\\frac{N_{hits}}{N_{trial}}\n",
    "$$\n",
    "This process expressed in Python:\n",
    "#### direct_pi.py"
   ]
  },
  {
   "cell_type": "code",
   "execution_count": 1,
   "metadata": {},
   "outputs": [
    {
     "name": "stdout",
     "output_type": "stream",
     "text": [
      "3.159\n"
     ]
    }
   ],
   "source": [
    "n_trials = 4000\n",
    "n_hits = 0\n",
    "for iter in range(n_trials):\n",
    "    x, y = random.uniform(-1.0, 1.0), random.uniform(-1.0, 1.0) \n",
    "    if x**2 + y**2 < 1.0: \n",
    "        n_hits += 1\n",
    "print (4.0 * n_hits / float(n_trials))"
   ]
  },
  {
   "cell_type": "markdown",
   "metadata": {},
   "source": [
    "\\\n",
    "To do many runs, we wrap up the above block to a function and excute it for many times: \n",
    "#### direct_pi_multirun.py"
   ]
  },
  {
   "cell_type": "code",
   "execution_count": 10,
   "metadata": {},
   "outputs": [],
   "source": [
    "def direct_pi(N):\n",
    "    n_hits = 0\n",
    "    for i in range(N):\n",
    "        x, y = random.uniform(-1.0, 1.0), random.uniform(-1.0, 1.0)\n",
    "        if x ** 2 + y ** 2 < 1.0:\n",
    "            n_hits += 1\n",
    "    return n_hits\n",
    " \n",
    "n_runs = 1000\n",
    "n_trials = 4000\n",
    "for run in range(n_runs):\n",
    "    print ( 4.0 * direct_pi(n_trials) / float(n_trials) )"
   ]
  },
  {
   "cell_type": "markdown",
   "metadata": {},
   "source": [
    "## 2. Metropolis Algorithm"
   ]
  },
  {
   "cell_type": "markdown",
   "metadata": {},
   "source": [
    "Imagine that if the area of the square is so large that no one can throw a pebble randomly into such a big field. The algorithm may be modified:\n",
    "\n",
    "<img src=\"./modified_algorithm.png\" width = \"200\" height = \"100\" alt=\"modified_algorithm.png\" align=center />"
   ]
  },
  {
   "cell_type": "code",
   "execution_count": 12,
   "metadata": {},
   "outputs": [],
   "source": [
    "#![jupyter](./modified_algorithm.png)"
   ]
  },
  {
   "cell_type": "markdown",
   "metadata": {},
   "source": [
    "Start with the upper right corner, throw the pebble in a random direction, and restart a new throw at the dropping position. \\\n",
    "Note that we have to cope with the unexpected miss that we throw the pebble outside of the square. The solution is to refuse this throw and do a new throw again until it drops inside the square. Of course, we should count +1 here for one throw. \n",
    "\n",
    "There are only one pebble in the center of the pad because from the center there are no outfielders thence no rejections. There would be many 'piles' close to the boundaries as this:\n",
    "\n",
    "<img src=\"./pile_up.png\" width = \"200\" height = \"100\" alt=\"pile_up.png\" align=center />\n",
    "\n",
    "This algorithm is implemented in Python as:\n",
    "\n",
    "#### markov_pi.py"
   ]
  },
  {
   "cell_type": "code",
   "execution_count": 14,
   "metadata": {},
   "outputs": [
    {
     "name": "stdout",
     "output_type": "stream",
     "text": [
      "3.215\n"
     ]
    }
   ],
   "source": [
    "x, y = 1.0, 1.0\n",
    "delta = 0.1\n",
    "n_trials = 4000\n",
    "n_hits = 0\n",
    "for i in range(n_trials):\n",
    "    del_x, del_y = random.uniform(-delta, delta), random.uniform(-delta, delta)\n",
    "    if abs(x + del_x) < 1.0 and abs(y + del_y) < 1.0:\n",
    "        x, y = x + del_x, y + del_y\n",
    "    if x**2 + y**2 < 1.0: n_hits += 1\n",
    "print ( 4.0 * n_hits / float(n_trials) )"
   ]
  },
  {
   "cell_type": "markdown",
   "metadata": {},
   "source": [
    "#### markov_pi_multiruns.py"
   ]
  },
  {
   "cell_type": "code",
   "execution_count": 17,
   "metadata": {},
   "outputs": [],
   "source": [
    "def markov_pi(N, delta): \n",
    "    x, y = 1.0, 1.0\n",
    "    n_hits = 0\n",
    "    for i in range(N):\n",
    "        del_x, del_y = random.uniform(-delta, delta), random.uniform(-delta, delta)\n",
    "        if abs(x + del_x) < 1.0 and abs(y + del_y) < 1.0:\n",
    "            x, y = x + del_x, y + del_y\n",
    "        if x**2 + y**2 < 1.0: n_hits += 1\n",
    "    return n_hits\n",
    "\n",
    "n_runs = 1000\n",
    "n_trials = 4000\n",
    "delta = 0.1\n",
    "for run in range(n_runs):\n",
    "    print ( 4.0 * markov_pi(n_trials, delta) / float(n_trials))"
   ]
  },
  {
   "cell_type": "markdown",
   "metadata": {},
   "source": [
    "## 3. 3x3 Pebble Game: Detailed Balance\n",
    "\n",
    "To explain why the 'pile-up' is reasonable, we condiser the 3x3 pebble game, which is equivalent but a simpler version:\n",
    "\n",
    "<img src=\"./3by3_pebble.png\" width = \"200\" height = \"100\" alt=\"3by3_pebble.png\" align=center />\n",
    " \n",
    " \n",
    "\n",
    " \\\n",
    "Probability of configuration 'a','b','c'...: $\\pi_{a}, \\pi_{b}, \\pi_{c}...$\\\n",
    "Probability of transition: $p(c\\rightarrow a), p(b\\rightarrow a), p(a\\rightarrow a)$\n",
    "\n",
    " \\\n",
    " \\\n",
    "Equations: \n",
    "$$\n",
    "\\begin{align}\n",
    "\\pi_{a} &= \\pi_{a}p(a\\rightarrow a)+\\pi_{b}p(b\\rightarrow a)+\\pi_{c}p(c\\rightarrow a)\\\\\n",
    "1 &= p(a\\rightarrow a)+p(b\\rightarrow a)+p(c\\rightarrow a)\n",
    "\\end{align}\n",
    "$$\n",
    "Combine these two, we find the necessary and sufficient condition for Monte-Carlo algorithm, called '**Celebrated Global Balance Condition**':\n",
    "$$\n",
    "\\pi_{a}p(a\\rightarrow b)+\\pi_{a}p(a\\rightarrow c)=\\pi_{b}p(b\\rightarrow a)+\\pi_{c}p(c\\rightarrow a)\n",
    "$$\n",
    "A set of transition probabilities from one site to another must satisfy it. "
   ]
  },
  {
   "cell_type": "markdown",
   "metadata": {},
   "source": [
    "A special way of satisfying this condition is make two of them equal seperately, which is the sufficient condition for Monte-Carlo algorithm, called the **'Detailed Balance Condition'**:\n",
    "$$\n",
    "\\pi_{a}p(a\\rightarrow b)=\\pi_{b}p(b\\rightarrow a)\\\\\n",
    "\\pi_{a}p(a\\rightarrow c)=\\pi_{c}p(c\\rightarrow a)\n",
    "$$\n",
    "\n",
    " \n",
    " \\\n",
    "In the 3x3 pebble game, if we demand the 9 configurations to be sweept out evenly. Namely, $\\pi_{a}=\\pi_{b}=\\pi_{c}=...$\\\n",
    "The **Detailed Balance Condition** is reduced to: \n",
    "$$\n",
    "p(a\\rightarrow b)=p(b\\rightarrow a)\\\\\n",
    "p(a\\rightarrow c)=p(c\\rightarrow a)\n",
    "$$\n",
    "\n",
    "We will play this homogeneous 3x3 pebble game in the first part of Tutorial 1.\n",
    "\n",
    "Next, the statistical weights of configurations are just trivial (unnormalized)."
   ]
  },
  {
   "cell_type": "code",
   "execution_count": 69,
   "metadata": {},
   "outputs": [
    {
     "data": {
      "image/png": "[encoded data removed]",
      "text/plain": [
       "<Figure size 432x288 with 1 Axes>"
      ]
     },
     "metadata": {},
     "output_type": "display_data"
    }
   ],
   "source": [
    "pylab.plot([0.5, 3.5], [1.5, 1.5], 'b')\n",
    "pylab.plot([0.5, 3.5], [2.5, 2.5], 'b')\n",
    "pylab.plot([1.5, 1.5], [0.5, 3.5], 'b')\n",
    "pylab.plot([2.5, 2.5], [0.5, 3.5], 'b')\n",
    "pylab.text(0.8, 0.8, '1', fontsize=40)\n",
    "pylab.text(0.8, 1.8, '1', fontsize=40)\n",
    "pylab.text(0.8, 2.8, '1', fontsize=40)\n",
    "pylab.text(1.8, 0.8, '1', fontsize=40)\n",
    "pylab.text(1.8, 1.8, '1', fontsize=40)\n",
    "pylab.text(1.8, 2.8, '1', fontsize=40)\n",
    "pylab.text(2.8, 0.8, '1', fontsize=40)\n",
    "pylab.text(2.8, 1.8, '1', fontsize=40)\n",
    "pylab.text(2.8, 2.8, '1', fontsize=40)\n",
    "pylab.axis('scaled')\n",
    "pylab.axis([0.5, 3.5, 0.5, 3.5])\n",
    "pylab.xticks([])\n",
    "pylab.yticks([])\n",
    "pylab.show()"
   ]
  },
  {
   "cell_type": "markdown",
   "metadata": {},
   "source": [
    "## 4. The inhomogeneous pebble game and the metropolis algorithm"
   ]
  },
  {
   "cell_type": "markdown",
   "metadata": {},
   "source": [
    "Assume that the statistical weights of configuration are: \n",
    "\n",
    "<img src=\"./inhomogeneous_pebble.png\" width = \"200\" height = \"150\" alt=\"inhomogeneous_pebble.png\" align=center />\n",
    "\n",
    "This statistical distribution set a game environment for us. In the inhomeneous pebble game, we still have to devise a Markov Chain Monte Carlo (MCMC) algorithm obeying the **Detailed Balance Conditon**. \n",
    "\n",
    "Due to non-even configuration here, the transition probability matrix cannot be set sysmmetrically, namely:\n",
    "$p(a\\rightarrow b)\\neq p(b\\rightarrow a)$\n",
    "\n",
    "A new way to set transition probability is derived by Metropolis et al. in 1953. \n",
    "\n",
    "**Metrololis Acceptance Probability**: $p(a\\rightarrow b)=min(1, \\frac{\\pi_{a}}{\\pi_{b}})$\n",
    "\n",
    "This rule will not violate **Detailed Balance Conditon**. In addition, think about the transition between a low energy state and high energy state.\n",
    "\n",
    "\n",
    "\n",
    "#### pebble_basic_inhomogeneous"
   ]
  },
  {
   "cell_type": "code",
   "execution_count": 31,
   "metadata": {},
   "outputs": [
    {
     "name": "stdout",
     "output_type": "stream",
     "text": [
      "comparison:  weight, histogram\n",
      "site:  0  weight:  3.0  histo:  2.99429\n",
      "site:  1  weight:  0.5  histo:  0.50029\n",
      "site:  2  weight:  1.0  histo:  1.00381\n",
      "site:  3  weight:  0.5  histo:  0.50258\n",
      "site:  4  weight:  1.0  histo:  1.00739\n",
      "site:  5  weight:  0.5  histo:  0.50012\n",
      "site:  6  weight:  2.0  histo:  1.99784\n",
      "site:  7  weight:  0.5  histo:  0.50416\n",
      "site:  8  weight:  1.0  histo:  0.98952\n"
     ]
    }
   ],
   "source": [
    "histo = [0, 0, 0, 0, 0, 0, 0, 0, 0]\n",
    "neighbor =  [[1, 3, 0, 0], [2, 4, 0, 1], [2, 5, 1, 2],\n",
    "             [4, 6, 3, 0], [5, 7, 3, 1], [5, 8, 4, 2],\n",
    "             [7, 6, 6, 3], [8, 7, 6, 4], [8, 8, 7, 5]]\n",
    "weight = [3.0, 0.5, 1.0, 0.5, 1.0, 0.5, 2.0, 0.5, 1.0]\n",
    "pos = 8\n",
    "n_iter = 1000000\n",
    "for iter in range(n_iter):\n",
    "    new_pos = neighbor[pos][random.randint(0, 3)]\n",
    "    if random.random() < weight[new_pos] / weight[pos]:\n",
    "        pos = new_pos\n",
    "    histo[pos] += 1 \n",
    "\n",
    "norm = sum(weight)\n",
    "print('comparison:  weight, histogram')\n",
    "for k in range(9): \n",
    "    print('site: ', k,' weight: ', weight[k], ' histo: ', norm * histo[k] / float(n_iter))"
   ]
  },
  {
   "cell_type": "code",
   "execution_count": null,
   "metadata": {},
   "outputs": [],
   "source": []
  },
  {
   "cell_type": "markdown",
   "metadata": {},
   "source": [
    "# Tutorial 1: Exponential convergence and the 3x3 pebble game"
   ]
  },
  {
   "cell_type": "markdown",
   "metadata": {},
   "source": [
    "The convergence of MCMC algorithm is exponential: $e^{-t/\\tau}$, which shows that the MCMC algorithm is characterized by the convergence time scale $\\tau$. It is on this scale that the system approach equilibirum. \n",
    "\n",
    "For the pebble game problem, the pebble positions become equally probable after time $\\tau$. Another example is the half-decay of radioactive element. \n",
    "\n",
    "\n",
    "Let us simulate the pebble game. Start with the topright site '8', and analyze two questions as dessert. \n",
    "\n",
    "<img src=\"./pebble_game.png\" width = \"200\" height = \"150\" alt=\"pebble_game.png\" align=center />\n",
    "\n",
    "1) If the pebble is on site 8 at t=0, on which sites can it be at t=1?\\\n",
    "Ans: 5, 7, 8; with probability $p=\\frac{1}{4}$, $p=\\frac{1}{4}$, $p=\\frac{1}{2}$, respectively\\\n",
    "2) At what time does the probability to be at site zero become nonzero?\\\n",
    "Ans: t=4s and larger\\\n",
    "3) What is the probability fro the pebble to be on site 0 at time t=4, given that it started on site 8 at time t=0?\\\n",
    "Ans: $p=\\frac{6}{256}$\n",
    "\n",
    "The following program shows movements of pebble:\n",
    "#### pebble_basic.py"
   ]
  },
  {
   "cell_type": "code",
   "execution_count": 30,
   "metadata": {},
   "outputs": [],
   "source": [
    "neighbor =  [[1, 3, 0, 0], [2, 4, 0, 1], [2, 5, 1, 2],\n",
    "             [4, 6, 3, 0], [5, 7, 3, 1], [5, 8, 4, 2],\n",
    "             [7, 6, 6, 3], [8, 7, 6, 4], [8, 8, 7, 5]]\n",
    "t_max = 4\n",
    "site = 8\n",
    "t = 0\n",
    "print(site)\n",
    "while t < t_max:\n",
    "    t += 1\n",
    "    site = neighbor[site][random.randint(0, 3)]   # 0-right, 1-up, 2-left, 3-down\n",
    "    print(site)"
   ]
  },
  {
   "cell_type": "markdown",
   "metadata": {},
   "source": [
    "#### pebble_basic_movie.py"
   ]
  },
  {
   "cell_type": "code",
   "execution_count": null,
   "metadata": {},
   "outputs": [],
   "source": [
    "sigma = 0.4  # sigma and s_map are needed for the graphical output\n",
    "s_map = [(1.0, 1.0), (2.0, 1.0), (3.0, 1.0), \n",
    "         (1.0, 2.0), (2.0, 2.0), (3.0, 2.0), \n",
    "         (1.0, 3.0), (2.0, 3.0), (3.0, 3.0)] \n",
    "neighbor =  [[1, 3, 0, 0], [2, 4, 0, 1], [2, 5, 1, 2],\n",
    "             [4, 6, 3, 0], [5, 7, 3, 1], [5, 8, 4, 2],\n",
    "             [7, 6, 6, 3], [8, 7, 6, 4], [8, 8, 7, 5]]\n",
    "site = 8\n",
    "N_runs = 2\n",
    "for run in range(N_runs):\n",
    "    if run < 10: number_string = '0'+str(run)\n",
    "    else: number_string = str(run)\n",
    "    # Begin of graphical output\n",
    "    cir = pylab.Circle(s_map[site], radius=sigma, fc='r')\n",
    "    pylab.gca().add_patch(cir)\n",
    "    pylab.plot([0.5, 3.5], [1.5, 1.5], 'b')\n",
    "    pylab.plot([0.5, 3.5], [2.5, 2.5], 'b')\n",
    "    pylab.plot([1.5, 1.5], [0.5, 3.5], 'b')\n",
    "    pylab.plot([2.5, 2.5], [0.5, 3.5], 'b')\n",
    "    pylab.title('t = '+ number_string)\n",
    "    pylab.axis('scaled')\n",
    "    pylab.axis([0.5, 3.5, 0.5, 3.5])\n",
    "    pylab.xticks([])\n",
    "    pylab.yticks([])\n",
    "    #pylab.savefig('pebble_basic_movie_'+number_string+'.png', transparent=False)\n",
    "    pylab.show()\n",
    "    pylab.clf()\n",
    "    # End of graphical output\n",
    "    site = neighbor[site][ random.randint(0, 3)]"
   ]
  },
  {
   "cell_type": "markdown",
   "metadata": {},
   "source": [
    "#### pebble_basic_multirun.py"
   ]
  },
  {
   "cell_type": "code",
   "execution_count": 18,
   "metadata": {},
   "outputs": [],
   "source": [
    "neighbor =  [[1, 3, 0, 0], [2, 4, 0, 1], [2, 5, 1, 2],\n",
    "             [4, 6, 3, 0], [5, 7, 3, 1], [5, 8, 4, 2],\n",
    "             [7, 6, 6, 3], [8, 7, 6, 4], [8, 8, 7, 5]]\n",
    "t_max = 4\n",
    "N_runs = 25600\n",
    "site_lst = []\n",
    "for run in range(N_runs):\n",
    "    site = 8\n",
    "    t = 0\n",
    "    while t < t_max: \n",
    "        t += 1\n",
    "        site = neighbor[site][random.randint(0, 3)]\n",
    "    #print(site)\n",
    "    site_lst.append(site)\n",
    "#print(site_lst)"
   ]
  },
  {
   "cell_type": "markdown",
   "metadata": {},
   "source": [
    "#### pebble_multirun_all_histogram.py"
   ]
  },
  {
   "cell_type": "code",
   "execution_count": 21,
   "metadata": {},
   "outputs": [
    {
     "data": {
      "image/png": "[encoded data removed]",
      "text/plain": [
       "<Figure size 432x288 with 2 Axes>"
      ]
     },
     "metadata": {
      "needs_background": "light"
     },
     "output_type": "display_data"
    },
    {
     "data": {
      "image/png": "[encoded data removed]",
      "text/plain": [
       "<Figure size 432x288 with 2 Axes>"
      ]
     },
     "metadata": {
      "needs_background": "light"
     },
     "output_type": "display_data"
    },
    {
     "data": {
      "image/png": "[encoded data removed]",
      "text/plain": [
       "<Figure size 432x288 with 2 Axes>"
      ]
     },
     "metadata": {
      "needs_background": "light"
     },
     "output_type": "display_data"
    },
    {
     "data": {
      "image/png": "[encoded data removed]",
      "text/plain": [
       "<Figure size 432x288 with 2 Axes>"
      ]
     },
     "metadata": {
      "needs_background": "light"
     },
     "output_type": "display_data"
    },
    {
     "data": {
      "image/png": "[encoded data removed]",
      "text/plain": [
       "<Figure size 432x288 with 2 Axes>"
      ]
     },
     "metadata": {
      "needs_background": "light"
     },
     "output_type": "display_data"
    },
    {
     "data": {
      "image/png": "[encoded data removed]",
      "text/plain": [
       "<Figure size 432x288 with 2 Axes>"
      ]
     },
     "metadata": {
      "needs_background": "light"
     },
     "output_type": "display_data"
    },
    {
     "data": {
      "image/png": "[encoded data removed]",
      "text/plain": [
       "<Figure size 432x288 with 2 Axes>"
      ]
     },
     "metadata": {
      "needs_background": "light"
     },
     "output_type": "display_data"
    },
    {
     "data": {
      "image/png": "[encoded data removed]",
      "text/plain": [
       "<Figure size 432x288 with 2 Axes>"
      ]
     },
     "metadata": {
      "needs_background": "light"
     },
     "output_type": "display_data"
    },
    {
     "data": {
      "image/png": "[encoded data removed]",
      "text/plain": [
       "<Figure size 432x288 with 2 Axes>"
      ]
     },
     "metadata": {
      "needs_background": "light"
     },
     "output_type": "display_data"
    },
    {
     "data": {
      "image/png": "[encoded data removed]",
      "text/plain": [
       "<Figure size 432x288 with 2 Axes>"
      ]
     },
     "metadata": {
      "needs_background": "light"
     },
     "output_type": "display_data"
    }
   ],
   "source": [
    "xvec = {1:3, 2:2, 3:1, 4:3, 5:2, 6:1, 7:3, 8:2, 9:1} \n",
    "yvec = {1:1, 2:1, 3:1, 4:2, 5:2, 6:2, 7:3, 8:3, 9:3} \n",
    "\n",
    "neighbor = {1 : [2, 4, 1, 1], 2 : [3, 5, 1, 2], 3 : [3, 6, 2, 3],\n",
    "            4 : [5, 7, 4, 1], 5 : [6, 8, 4, 2], 6 : [6, 9, 5, 3],\n",
    "            7 : [8, 7, 7, 4], 8 : [9, 8, 7, 5], 9 : [9, 9, 8, 6]}\n",
    "\n",
    "N_runs = 10\n",
    "for run in range(N_runs):\n",
    "    list_vec = []\n",
    "    if run < 10:  run_str= '0'+str(run)\n",
    "    else: run_str = str(run)\n",
    "    for n_runs in range(100000): \n",
    "        pos = 9\n",
    "        for iter in range(run):\n",
    "            pos = neighbor[pos][ random.randint(0, 3)]\n",
    "        list_vec.append(pos)\n",
    "\n",
    "    x = [xvec[k] for k in list_vec]\n",
    "    y = [yvec[k] for k in list_vec]\n",
    "\n",
    "    plt.xticks([])\n",
    "    plt.yticks([])\n",
    "    H, xedges, yedges = np.histogram2d(x, y, bins=(3, 3), \n",
    "               range=[[1,3],[1,3]], normed=True)\n",
    "    #print(H)\n",
    "    H /= np.sum(H)\n",
    "    #print(H)\n",
    "    extent = [yedges[0], yedges[-1], xedges[-1], xedges[0]]\n",
    "    histo = plt.imshow(H, extent=extent, interpolation='nearest', vmin=0, vmax=1.00)\n",
    "    histo.set_cmap('hot')\n",
    "    plt.colorbar()\n",
    "    plt.title('t = '+str(run),fontsize=22)\n",
    "    #plt.savefig('3x3_pebble_run_'+run_str+'.png')\n",
    "    plt.show()\n",
    "    plt.close()"
   ]
  },
  {
   "cell_type": "markdown",
   "metadata": {},
   "source": [
    "The first \\\n",
    "The color becomes more and more uniform. \n",
    "\n",
    "Question: Would our results change if instead of playing 100,000 consecutive pebble games, we would let 100,000 pebbles move across the grid at the same time? \\\n",
    "Ans: No"
   ]
  },
  {
   "cell_type": "markdown",
   "metadata": {},
   "source": [
    "## 2. The Transfer Matrix Method\n",
    "Solve the pebble game problem exactly.\n",
    "\n",
    "Note that it doews not apply for large system. Define the probability vector: \n",
    "\n",
    "$$\n",
    "\\pi_{t}=\n",
    "\\left(\\begin{matrix}\n",
    "\\pi_{0}^{t}\\\\\n",
    "\\pi_{1}^{t}\\\\\n",
    "\\pi_{2}^{t}\\\\\n",
    "\\pi_{3}^{t}\\\\\n",
    "\\vdots\\\\\n",
    "\\pi_{7}^{t}\\\\\n",
    "\\pi_{8}^{t}\\\\\n",
    "\\end{matrix}\\right)\n",
    "$$\n",
    "\n",
    "As discussed in the Lecture, the Monte-Carlo is nothing but the transfer matrix of transition probabilities $p(a\\rightarrow b)$. For 3x3 pebble game, the transfer matrix is:\n",
    "\n",
    "$$\n",
    "P=\\left(\\begin{matrix}\n",
    "p(0\\rightarrow 0) & p(1\\rightarrow 0) & \\cdots & p(8\\rightarrow 0)\\\\\n",
    "p(0\\rightarrow 1) & p(1\\rightarrow 1) & \\cdots & p(8\\rightarrow 1)\\\\\n",
    "p(0\\rightarrow 2) & p(1\\rightarrow 2) & \\cdots & p(8\\rightarrow 2)\\\\\n",
    "\\vdots &  &  & \\vdots\\\\\n",
    "p(0\\rightarrow 8) & p(1\\rightarrow 0) & \\cdots & p(8\\rightarrow 8)\\\\\n",
    "\\end{matrix}\\right)\n",
    "$$"
   ]
  },
  {
   "cell_type": "markdown",
   "metadata": {},
   "source": [
    "The probability vector at t+1 is:  \n",
    "\n",
    "$$\n",
    "\\Pi_{t+1}=\n",
    "\\left(\\begin{matrix}\n",
    "\\pi_{0}^{t+1}\\\\\n",
    "\\pi_{1}^{t+1}\\\\\n",
    "\\pi_{2}^{t+1}\\\\\n",
    "\\vdots\\\\\n",
    "\\pi_{8}^{t+1}\\\\\n",
    "\\end{matrix}\\right)=\n",
    "\\left(\\begin{matrix}\n",
    "p(0\\rightarrow 0) & p(1\\rightarrow 0) & \\cdots & p(8\\rightarrow 0)\\\\\n",
    "p(0\\rightarrow 1) & p(1\\rightarrow 1) & \\cdots & p(8\\rightarrow 1)\\\\\n",
    "p(0\\rightarrow 2) & p(1\\rightarrow 2) & \\cdots & p(8\\rightarrow 2)\\\\\n",
    "\\vdots &  &  & \\vdots\\\\\n",
    "p(0\\rightarrow 8) & p(1\\rightarrow 0) & \\cdots & p(8\\rightarrow 8)\\\\\n",
    "\\end{matrix}\\right)\n",
    "\\left(\\begin{matrix}\n",
    "\\pi_{0}^{t}\\\\\n",
    "\\pi_{1}^{t}\\\\\n",
    "\\pi_{2}^{t}\\\\\n",
    "\\vdots\\\\\n",
    "\\pi_{8}^{t}\\\\\n",
    "\\end{matrix}\\right)\n",
    "$$\n",
    "\n",
    "In Python, time-evolution of probability vector was given:\n",
    "#### pebble_transfer.py"
   ]
  },
  {
   "cell_type": "code",
   "execution_count": null,
   "metadata": {},
   "outputs": [],
   "source": [
    "neighbor =  [[1, 3, 0, 0], [2, 4, 0, 1], [2, 5, 1, 2],\n",
    "             [4, 6, 3, 0], [5, 7, 3, 1], [5, 8, 4, 2],\n",
    "             [7, 6, 6, 3], [8, 7, 6, 4], [8, 8, 7, 5]]\n",
    "transfer = np.zeros((9, 9))\n",
    "for k in range(9):\n",
    "    for neigh in range(4): transfer[neighbor[k][neigh], k] += 0.25\n",
    "position = np.zeros(9)\n",
    "position[8] = 1.0\n",
    "for t in range(100):\n",
    "    print (t,'  ',[\"%0.5f\" % i for i in position])\n",
    "    position = np.dot(transfer, position)"
   ]
  },
  {
   "cell_type": "markdown",
   "metadata": {},
   "source": [
    "The equilibrium is reached very fast, at t=38. The results shows that the equilibrium probability vector, [0.1111, 0.111, ... ,0.111], is an eigenvector of the transfer matrix with eigenvalue 1. \n",
    "\n",
    "\n",
    "#### pebble_transfer_eigen.py"
   ]
  },
  {
   "cell_type": "code",
   "execution_count": 24,
   "metadata": {},
   "outputs": [
    {
     "name": "stdout",
     "output_type": "stream",
     "text": [
      "[-5.00000000e-01  1.00000000e+00  7.50000000e-01 -1.29713170e-16\n",
      "  5.00000000e-01  2.50000000e-01  7.50000000e-01  6.67868538e-17\n",
      "  2.50000000e-01]\n"
     ]
    }
   ],
   "source": [
    "neighbor =  [[1, 3, 0, 0], [2, 4, 0, 1], [2, 5, 1, 2],\n",
    "             [4, 6, 3, 0], [5, 7, 3, 1], [5, 8, 4, 2],\n",
    "             [7, 6, 6, 3], [8, 7, 6, 4], [8, 8, 7, 5]]\n",
    "transfer = np.zeros((9, 9))\n",
    "for k in range(9):\n",
    "    for neigh in range(4): transfer[neighbor[k][neigh], k] += 0.25\n",
    "eigenvalues, eigenvectors = np.linalg.eig(transfer)\n",
    "print(eigenvalues)\n",
    " \n",
    "# you may print the eigenvectors by uncommenting the following lines...\n",
    "#for iter in range(9):\n",
    "#    print eigenvalues[iter]\n",
    "#    for i in range(9):\n",
    "#       print eigenvectors[i][iter]"
   ]
  },
  {
   "cell_type": "markdown",
   "metadata": {},
   "source": [
    "Next, we subtract the initial probability state by 1/9 and take the absolute value. This aims to do linear fitting and determine the convergence relationship. Note that it is equivalent to starting from the probability state: [0.1111, 0.1111, ....., 0.11111, 0.8889]. As implemented in Python:\n",
    "\n",
    "#### pebble_transfer_sub.py"
   ]
  },
  {
   "cell_type": "code",
   "execution_count": 50,
   "metadata": {},
   "outputs": [
    {
     "name": "stdout",
     "output_type": "stream",
     "text": [
      "0    ['0.11111', '0.11111', '0.11111', '0.11111', '0.11111', '0.11111', '0.11111', '0.11111', '0.88889']\n",
      "1    ['0.11111', '0.11111', '0.11111', '0.11111', '0.11111', '0.13889', '0.11111', '0.13889', '0.38889']\n",
      "2    ['0.11111', '0.11111', '0.04861', '0.11111', '0.01389', '0.07639', '0.04861', '0.07639', '0.26389']\n",
      "3    ['0.11111', '0.06424', '0.03299', '0.06424', '0.01736', '0.07639', '0.03299', '0.07639', '0.17014']\n",
      "4    ['0.08767', '0.05642', '0.01345', '0.05642', '0.00608', '0.04905', '0.01345', '0.04905', '0.12326']\n",
      "5    ['0.07205', '0.03787', '0.00857', '0.03787', '0.00369', '0.04123', '0.00857', '0.04123', '0.08615']\n",
      "6    ['0.05496', '0.03054', '0.00345', '0.03054', '0.00168', '0.02878', '0.00345', '0.02878', '0.06369']\n",
      "7    ['0.04275', '0.02182', '0.00216', '0.02182', '0.00088', '0.02268', '0.00216', '0.02268', '0.04624']\n",
      "8    ['0.03228', '0.01690', '0.00087', '0.01690', '0.00043', '0.01647', '0.00087', '0.01647', '0.03446']\n",
      "9    ['0.02459', '0.01241', '0.00054', '0.01241', '0.00022', '0.01262', '0.00054', '0.01262', '0.02546']\n",
      "10    ['0.01850', '0.00944', '0.00022', '0.00944', '0.00011', '0.00933', '0.00022', '0.00933', '0.01904']\n",
      "11    ['0.01397', '0.00701', '0.00014', '0.00701', '0.00005', '0.00707', '0.00014', '0.00707', '0.01419']\n",
      "12    ['0.01049', '0.00529', '0.00005', '0.00529', '0.00003', '0.00527', '0.00005', '0.00527', '0.01063']\n",
      "13    ['0.00789', '0.00395', '0.00003', '0.00395', '0.00001', '0.00397', '0.00003', '0.00397', '0.00795']\n",
      "14    ['0.00592', '0.00297', '0.00001', '0.00297', '0.00001', '0.00297', '0.00001', '0.00297', '0.00596']\n",
      "15    ['0.00445', '0.00223', '0.00001', '0.00223', '0.00000', '0.00223', '0.00001', '0.00223', '0.00446']\n",
      "16    ['0.00334', '0.00167', '0.00000', '0.00167', '0.00000', '0.00167', '0.00000', '0.00167', '0.00335']\n",
      "17    ['0.00250', '0.00125', '0.00000', '0.00125', '0.00000', '0.00125', '0.00000', '0.00125', '0.00251']\n",
      "18    ['0.00188', '0.00094', '0.00000', '0.00094', '0.00000', '0.00094', '0.00000', '0.00094', '0.00188']\n",
      "19    ['0.00141', '0.00070', '0.00000', '0.00070', '0.00000', '0.00070', '0.00000', '0.00070', '0.00141']\n",
      "20    ['0.00106', '0.00053', '0.00000', '0.00053', '0.00000', '0.00053', '0.00000', '0.00053', '0.00106']\n",
      "21    ['0.00079', '0.00040', '0.00000', '0.00040', '0.00000', '0.00040', '0.00000', '0.00040', '0.00079']\n",
      "22    ['0.00059', '0.00030', '0.00000', '0.00030', '0.00000', '0.00030', '0.00000', '0.00030', '0.00059']\n",
      "23    ['0.00045', '0.00022', '0.00000', '0.00022', '0.00000', '0.00022', '0.00000', '0.00022', '0.00045']\n",
      "24    ['0.00033', '0.00017', '0.00000', '0.00017', '0.00000', '0.00017', '0.00000', '0.00017', '0.00033']\n",
      "25    ['0.00025', '0.00013', '0.00000', '0.00013', '0.00000', '0.00013', '0.00000', '0.00013', '0.00025']\n",
      "26    ['0.00019', '0.00009', '0.00000', '0.00009', '0.00000', '0.00009', '0.00000', '0.00009', '0.00019']\n",
      "27    ['0.00014', '0.00007', '0.00000', '0.00007', '0.00000', '0.00007', '0.00000', '0.00007', '0.00014']\n",
      "28    ['0.00011', '0.00005', '0.00000', '0.00005', '0.00000', '0.00005', '0.00000', '0.00005', '0.00011']\n",
      "29    ['0.00008', '0.00004', '0.00000', '0.00004', '0.00000', '0.00004', '0.00000', '0.00004', '0.00008']\n",
      "30    ['0.00006', '0.00003', '0.00000', '0.00003', '0.00000', '0.00003', '0.00000', '0.00003', '0.00006']\n",
      "31    ['0.00004', '0.00002', '0.00000', '0.00002', '0.00000', '0.00002', '0.00000', '0.00002', '0.00004']\n",
      "32    ['0.00003', '0.00002', '0.00000', '0.00002', '0.00000', '0.00002', '0.00000', '0.00002', '0.00003']\n",
      "33    ['0.00003', '0.00001', '0.00000', '0.00001', '0.00000', '0.00001', '0.00000', '0.00001', '0.00003']\n",
      "34    ['0.00002', '0.00001', '0.00000', '0.00001', '0.00000', '0.00001', '0.00000', '0.00001', '0.00002']\n",
      "35    ['0.00001', '0.00001', '0.00000', '0.00001', '0.00000', '0.00001', '0.00000', '0.00001', '0.00001']\n",
      "36    ['0.00001', '0.00001', '0.00000', '0.00001', '0.00000', '0.00001', '0.00000', '0.00001', '0.00001']\n",
      "37    ['0.00001', '0.00000', '0.00000', '0.00000', '0.00000', '0.00000', '0.00000', '0.00000', '0.00001']\n",
      "38    ['0.00001', '0.00000', '0.00000', '0.00000', '0.00000', '0.00000', '0.00000', '0.00000', '0.00001']\n",
      "39    ['0.00000', '0.00000', '0.00000', '0.00000', '0.00000', '0.00000', '0.00000', '0.00000', '0.00000']\n",
      "40    ['0.00000', '0.00000', '0.00000', '0.00000', '0.00000', '0.00000', '0.00000', '0.00000', '0.00000']\n",
      "41    ['0.00000', '0.00000', '0.00000', '0.00000', '0.00000', '0.00000', '0.00000', '0.00000', '0.00000']\n",
      "42    ['0.00000', '0.00000', '0.00000', '0.00000', '0.00000', '0.00000', '0.00000', '0.00000', '0.00000']\n",
      "43    ['0.00000', '0.00000', '0.00000', '0.00000', '0.00000', '0.00000', '0.00000', '0.00000', '0.00000']\n",
      "44    ['0.00000', '0.00000', '0.00000', '0.00000', '0.00000', '0.00000', '0.00000', '0.00000', '0.00000']\n",
      "45    ['0.00000', '0.00000', '0.00000', '0.00000', '0.00000', '0.00000', '0.00000', '0.00000', '0.00000']\n",
      "46    ['0.00000', '0.00000', '0.00000', '0.00000', '0.00000', '0.00000', '0.00000', '0.00000', '0.00000']\n",
      "47    ['0.00000', '0.00000', '0.00000', '0.00000', '0.00000', '0.00000', '0.00000', '0.00000', '0.00000']\n",
      "48    ['0.00000', '0.00000', '0.00000', '0.00000', '0.00000', '0.00000', '0.00000', '0.00000', '0.00000']\n",
      "49    ['0.00000', '0.00000', '0.00000', '0.00000', '0.00000', '0.00000', '0.00000', '0.00000', '0.00000']\n",
      "50    ['0.00000', '0.00000', '0.00000', '0.00000', '0.00000', '0.00000', '0.00000', '0.00000', '0.00000']\n",
      "51    ['0.00000', '0.00000', '0.00000', '0.00000', '0.00000', '0.00000', '0.00000', '0.00000', '0.00000']\n",
      "52    ['0.00000', '0.00000', '0.00000', '0.00000', '0.00000', '0.00000', '0.00000', '0.00000', '0.00000']\n",
      "53    ['0.00000', '0.00000', '0.00000', '0.00000', '0.00000', '0.00000', '0.00000', '0.00000', '0.00000']\n",
      "54    ['0.00000', '0.00000', '0.00000', '0.00000', '0.00000', '0.00000', '0.00000', '0.00000', '0.00000']\n",
      "55    ['0.00000', '0.00000', '0.00000', '0.00000', '0.00000', '0.00000', '0.00000', '0.00000', '0.00000']\n",
      "56    ['0.00000', '0.00000', '0.00000', '0.00000', '0.00000', '0.00000', '0.00000', '0.00000', '0.00000']\n",
      "57    ['0.00000', '0.00000', '0.00000', '0.00000', '0.00000', '0.00000', '0.00000', '0.00000', '0.00000']\n",
      "58    ['0.00000', '0.00000', '0.00000', '0.00000', '0.00000', '0.00000', '0.00000', '0.00000', '0.00000']\n",
      "59    ['0.00000', '0.00000', '0.00000', '0.00000', '0.00000', '0.00000', '0.00000', '0.00000', '0.00000']\n",
      "60    ['0.00000', '0.00000', '0.00000', '0.00000', '0.00000', '0.00000', '0.00000', '0.00000', '0.00000']\n",
      "61    ['0.00000', '0.00000', '0.00000', '0.00000', '0.00000', '0.00000', '0.00000', '0.00000', '0.00000']\n",
      "62    ['0.00000', '0.00000', '0.00000', '0.00000', '0.00000', '0.00000', '0.00000', '0.00000', '0.00000']\n",
      "63    ['0.00000', '0.00000', '0.00000', '0.00000', '0.00000', '0.00000', '0.00000', '0.00000', '0.00000']\n",
      "64    ['0.00000', '0.00000', '0.00000', '0.00000', '0.00000', '0.00000', '0.00000', '0.00000', '0.00000']\n",
      "65    ['0.00000', '0.00000', '0.00000', '0.00000', '0.00000', '0.00000', '0.00000', '0.00000', '0.00000']\n",
      "66    ['0.00000', '0.00000', '0.00000', '0.00000', '0.00000', '0.00000', '0.00000', '0.00000', '0.00000']\n",
      "67    ['0.00000', '0.00000', '0.00000', '0.00000', '0.00000', '0.00000', '0.00000', '0.00000', '0.00000']\n",
      "68    ['0.00000', '0.00000', '0.00000', '0.00000', '0.00000', '0.00000', '0.00000', '0.00000', '0.00000']\n",
      "69    ['0.00000', '0.00000', '0.00000', '0.00000', '0.00000', '0.00000', '0.00000', '0.00000', '0.00000']\n",
      "70    ['0.00000', '0.00000', '0.00000', '0.00000', '0.00000', '0.00000', '0.00000', '0.00000', '0.00000']\n",
      "71    ['0.00000', '0.00000', '0.00000', '0.00000', '0.00000', '0.00000', '0.00000', '0.00000', '0.00000']\n",
      "72    ['0.00000', '0.00000', '0.00000', '0.00000', '0.00000', '0.00000', '0.00000', '0.00000', '0.00000']\n",
      "73    ['0.00000', '0.00000', '0.00000', '0.00000', '0.00000', '0.00000', '0.00000', '0.00000', '0.00000']\n",
      "74    ['0.00000', '0.00000', '0.00000', '0.00000', '0.00000', '0.00000', '0.00000', '0.00000', '0.00000']\n",
      "75    ['0.00000', '0.00000', '0.00000', '0.00000', '0.00000', '0.00000', '0.00000', '0.00000', '0.00000']\n",
      "76    ['0.00000', '0.00000', '0.00000', '0.00000', '0.00000', '0.00000', '0.00000', '0.00000', '0.00000']\n",
      "77    ['0.00000', '0.00000', '0.00000', '0.00000', '0.00000', '0.00000', '0.00000', '0.00000', '0.00000']\n",
      "78    ['0.00000', '0.00000', '0.00000', '0.00000', '0.00000', '0.00000', '0.00000', '0.00000', '0.00000']\n",
      "79    ['0.00000', '0.00000', '0.00000', '0.00000', '0.00000', '0.00000', '0.00000', '0.00000', '0.00000']\n",
      "80    ['0.00000', '0.00000', '0.00000', '0.00000', '0.00000', '0.00000', '0.00000', '0.00000', '0.00000']\n",
      "81    ['0.00000', '0.00000', '0.00000', '0.00000', '0.00000', '0.00000', '0.00000', '0.00000', '0.00000']\n",
      "82    ['0.00000', '0.00000', '0.00000', '0.00000', '0.00000', '0.00000', '0.00000', '0.00000', '0.00000']\n",
      "83    ['0.00000', '0.00000', '0.00000', '0.00000', '0.00000', '0.00000', '0.00000', '0.00000', '0.00000']\n",
      "84    ['0.00000', '0.00000', '0.00000', '0.00000', '0.00000', '0.00000', '0.00000', '0.00000', '0.00000']\n",
      "85    ['0.00000', '0.00000', '0.00000', '0.00000', '0.00000', '0.00000', '0.00000', '0.00000', '0.00000']\n",
      "86    ['0.00000', '0.00000', '0.00000', '0.00000', '0.00000', '0.00000', '0.00000', '0.00000', '0.00000']\n",
      "87    ['0.00000', '0.00000', '0.00000', '0.00000', '0.00000', '0.00000', '0.00000', '0.00000', '0.00000']\n",
      "88    ['0.00000', '0.00000', '0.00000', '0.00000', '0.00000', '0.00000', '0.00000', '0.00000', '0.00000']\n",
      "89    ['0.00000', '0.00000', '0.00000', '0.00000', '0.00000', '0.00000', '0.00000', '0.00000', '0.00000']\n",
      "90    ['0.00000', '0.00000', '0.00000', '0.00000', '0.00000', '0.00000', '0.00000', '0.00000', '0.00000']\n",
      "91    ['0.00000', '0.00000', '0.00000', '0.00000', '0.00000', '0.00000', '0.00000', '0.00000', '0.00000']\n",
      "92    ['0.00000', '0.00000', '0.00000', '0.00000', '0.00000', '0.00000', '0.00000', '0.00000', '0.00000']\n",
      "93    ['0.00000', '0.00000', '0.00000', '0.00000', '0.00000', '0.00000', '0.00000', '0.00000', '0.00000']\n",
      "94    ['0.00000', '0.00000', '0.00000', '0.00000', '0.00000', '0.00000', '0.00000', '0.00000', '0.00000']\n",
      "95    ['0.00000', '0.00000', '0.00000', '0.00000', '0.00000', '0.00000', '0.00000', '0.00000', '0.00000']\n",
      "96    ['0.00000', '0.00000', '0.00000', '0.00000', '0.00000', '0.00000', '0.00000', '0.00000', '0.00000']\n",
      "97    ['0.00000', '0.00000', '0.00000', '0.00000', '0.00000', '0.00000', '0.00000', '0.00000', '0.00000']\n",
      "98    ['0.00000', '0.00000', '0.00000', '0.00000', '0.00000', '0.00000', '0.00000', '0.00000', '0.00000']\n",
      "99    ['0.00000', '0.00000', '0.00000', '0.00000', '0.00000', '0.00000', '0.00000', '0.00000', '0.00000']\n"
     ]
    }
   ],
   "source": [
    "neighbor =  [[1, 3, 0, 0], [2, 4, 0, 1], [2, 5, 1, 2],\n",
    "             [4, 6, 3, 0], [5, 7, 3, 1], [5, 8, 4, 2],\n",
    "             [7, 6, 6, 3], [8, 7, 6, 4], [8, 8, 7, 5]]\n",
    "transfer = np.zeros((9, 9))\n",
    "for k in range(9):\n",
    "    for neigh in range(4): transfer[neighbor[k][neigh], k] += 0.25\n",
    "position = np.zeros(9)\n",
    "position[8] = 1.0\n",
    "position_0 = []\n",
    "for t in range(100):\n",
    "    print (t,'  ',[\"%0.5f\" % abs(i- 1.0 / 9.0) for i in position])\n",
    "    position_0.append(abs(position[0]-1.0/9.0))\n",
    "    position = np.dot(transfer, position)"
   ]
  },
  {
   "cell_type": "markdown",
   "metadata": {},
   "source": [
    " \\\n",
    "Now let us plot the output for site zero in the semi-log scale. \n",
    "$$\n",
    "p_{0}(t)=p_{0}(0) \\hskip1mm exp(-t/\\tau), \\hskip6mm ln(\\frac{p}{0.1111})=-t/\\tau\n",
    "$$\n",
    "\n",
    "\n",
    "This straight line with slope 0.75 indicates the exponential convergence of the equilibirum. "
   ]
  },
  {
   "cell_type": "code",
   "execution_count": 51,
   "metadata": {},
   "outputs": [
    {
     "data": {
      "image/png": "[encoded data removed]",
      "text/plain": [
       "<Figure size 432x288 with 1 Axes>"
      ]
     },
     "metadata": {
      "needs_background": "light"
     },
     "output_type": "display_data"
    },
    {
     "name": "stdout",
     "output_type": "stream",
     "text": [
      "4.7193471228168526e-08\n"
     ]
    }
   ],
   "source": [
    "position_0_array = np.array(position_0)\n",
    "plt.plot(range(100), np.log(position_0_array/(1/9)), label='site 0', color='b')\n",
    "plt.xlabel('t')\n",
    "plt.ylabel('deviation from 1/9')\n",
    "plt.title('Deviation from the equilibrium probability (semi-log scale)')\n",
    "plt.legend(loc='best')\n",
    "plt.text(50, -5, ''.format(position_0[50]-position_0[51]))\n",
    "plt.show()\n",
    "print(position_0_array[50]-position_0_array[51])"
   ]
  },
  {
   "cell_type": "markdown",
   "metadata": {},
   "source": [
    "$(0.75)^{t}=exp(t \\cdot ln(0.75))=exp(-t/\\tau)$\\\n",
    "with $\\tau=3.476...$\n",
    "\n",
    "## 3. Irreducibility and Aperiodicity in the Markov Chain"
   ]
  },
  {
   "cell_type": "markdown",
   "metadata": {},
   "source": [
    "The results implies that the evolution of the Monte Carlo dynamics is determined by the decomposition of the probability vector at initial time into the eigenvectors of the transfer matrix. All eigenvalues have modulus less than or equal to one. An eigenvalue larger than one will lead to an explosion of the probability at large times,\n",
    "\n",
    "Probability vector \\\n",
    "$p^{t}=\\lambda^{t}_{1}v_{1}+\\lambda^{t}_{2}v_{2}+.....=\\sum_{i}\\lambda^{t}_{i}v_{i}$ \n",
    "\n",
    "\n",
    "#### pebble_dual_eigen.py"
   ]
  },
  {
   "cell_type": "code",
   "execution_count": 54,
   "metadata": {},
   "outputs": [
    {
     "name": "stdout",
     "output_type": "stream",
     "text": [
      "[-5.02430015e-01 -5.00000000e-01  1.00000000e+00  9.92451031e-01\n",
      "  5.00000000e-01  4.79023434e-01  7.25649298e-01 -1.50050555e-02\n",
      "  2.40311308e-01 -5.75591118e-17  7.50000000e-01  7.50000000e-01\n",
      "  7.50000000e-01  2.24796422e-16  2.63649218e-17  2.50000000e-01\n",
      "  2.50000000e-01  2.50000000e-01]\n"
     ]
    }
   ],
   "source": [
    "neighbor =  [[1, 3, 0, 0], [2, 4, 0, 1], [2, 5, 1, 2],\n",
    "             [4, 6, 3, 0], [5, 7, 3, 1], [5, 8, 4, 2],\n",
    "             [7, 6, 6, 3], [8, 7, 6, 4], [8, 8, 7, 5]]\n",
    "transfer = np.zeros((18, 18))\n",
    "for k in range(9):\n",
    "    for neigh in range(4): \n",
    "        transfer[neighbor[k][neigh], k] += 0.25     # red pebble game\n",
    "        transfer[neighbor[k][neigh]+9, k+9] += 0.25 # blue pebble game   \n",
    "# small transition epsilon between red 2 and blue 6\n",
    "epsilon = 0.04\n",
    "transfer[6+9,2] = transfer[2,6+9] = epsilon\n",
    "transfer[2,2] -= epsilon\n",
    "transfer[6+9,6+9] -= epsilon\n",
    "eigenvalues, eigenvectors = np.linalg.eig(transfer)\n",
    "print(eigenvalues)\n",
    " \n",
    "# you may print the eigenvectors by uncommenting the following four lines\n",
    "#for iter in range(18):\n",
    "#    print eigenvalues[iter]\n",
    "#    for i in range(18):\n",
    "#        print eigenvectors[i][iter]"
   ]
  },
  {
   "cell_type": "markdown",
   "metadata": {},
   "source": [
    "#### pebble_dual_movie.py"
   ]
  },
  {
   "cell_type": "code",
   "execution_count": 61,
   "metadata": {},
   "outputs": [
    {
     "name": "stdout",
     "output_type": "stream",
     "text": [
      "transition red->blue at time =  5\n",
      "transition blue->red at time =  6\n",
      "transition red->blue at time =  9\n",
      "transition blue->red at time =  12\n",
      "transition red->blue at time =  17\n",
      "transition blue->red at time =  20\n",
      "transition red->blue at time =  63\n",
      "transition blue->red at time =  68\n",
      "transition red->blue at time =  72\n",
      "transition blue->red at time =  221\n"
     ]
    },
    {
     "data": {
      "text/plain": [
       "<Figure size 432x288 with 0 Axes>"
      ]
     },
     "metadata": {},
     "output_type": "display_data"
    }
   ],
   "source": [
    "random.seed('1234')\n",
    "sigma = 0.4\n",
    "epsilon = 0.4  # probability to switch from red to blue pebble, and vice versa\n",
    "pylab.figure()\n",
    "s_map_red =  [(1.0, 1.0), (2.0, 1.0), (3.0, 1.0), \n",
    "              (1.0, 2.0), (2.0, 2.0), (3.0, 2.0), \n",
    "              (1.0, 3.0), (2.0, 3.0), (3.0, 3.0)] \n",
    "offset = 3.0\n",
    "s_map_blue = [(x+offset,y-offset) for (x,y) in s_map_red]\n",
    "neighbor =  [[1, 3, 0, 0], [2, 4, 0, 1], [2, 5, 1, 2],\n",
    "             [4, 6, 3, 0], [5, 7, 3, 1], [5, 8, 4, 2],\n",
    "             [7, 6, 6, 3], [8, 7, 6, 4], [8, 8, 7, 5]]\n",
    "color = 'red'  #chose 'red' or 'blue'\n",
    "site = 8\n",
    "tmax = 240\n",
    "for iter in range(tmax):\n",
    "    period = 4\n",
    "    if (iter%period) == 0:\n",
    "    # Begin of graphical output\n",
    "        maxlength = len(str(tmax-1))\n",
    "        number_string = str(iter).zfill(maxlength)\n",
    "        if color == 'red':  cir = pylab.Circle(s_map_red[site],  radius=sigma, fc='r')\n",
    "        if color == 'blue': cir = pylab.Circle(s_map_blue[site], radius=sigma, fc='b')\n",
    "        \n",
    "        pylab.figure()\n",
    "        pylab.gca().add_patch(cir)\n",
    "        pylab.plot([0.5, 3.5], [0.5, 0.5], 'r')\n",
    "        pylab.plot([0.5, 3.5], [1.5, 1.5], 'r')\n",
    "        pylab.plot([0.5, 3.5], [2.5, 2.5], 'r')\n",
    "        pylab.plot([1.5, 1.5], [0.5, 3.5], 'r')\n",
    "        pylab.plot([2.5, 2.5], [0.5, 3.5], 'r')\n",
    "        pylab.plot([3.5, 3.5], [0.5, 3.5], 'r')\n",
    "        pylab.plot([0.5+offset, 3.5+offset], [1.5-offset, 1.5-offset], 'b')\n",
    "        pylab.plot([0.5+offset, 3.5+offset], [2.5-offset, 2.5-offset], 'b')\n",
    "        pylab.plot([0.5+offset, 3.5+offset], [3.5-offset, 3.5-offset], 'b')\n",
    "        pylab.plot([0.5+offset, 0.5+offset], [0.5-offset, 3.5-offset], 'b')\n",
    "        pylab.plot([1.5+offset, 1.5+offset], [0.5-offset, 3.5-offset], 'b')\n",
    "        pylab.plot([2.5+offset, 2.5+offset], [0.5-offset, 3.5-offset], 'b')\n",
    "        pylab.title('t = '+ number_string)\n",
    "        pylab.axis('scaled')\n",
    "        pylab.axis([0.5, 6.5, -2.5, 3.5])\n",
    "        pylab.xticks([])\n",
    "        pylab.yticks([])\n",
    "        number_string_filename = str(iter/period).zfill(3)\n",
    "        #pylab.savefig('pebble_dual_movie_epsilon_'+number_string_filename+'.png', transparent=True)\n",
    "        pylab.clf()\n",
    "        pylab.close()\n",
    "    # End of graphical output\n",
    "    newsite = neighbor[site][ random.randint(0, 3)]\n",
    "    newcolor = color\n",
    "    if (color == 'red') and (site == 2) and (newsite == 2):\n",
    "        if random.random() < epsilon:\n",
    "            newcolor = 'blue'\n",
    "            newsite = 6\n",
    "            print(\"transition red->blue at time = \", iter)\n",
    "    if (color == 'blue') and (site == 6) and (newsite == 6):\n",
    "        if random.random() < epsilon:\n",
    "            newcolor = 'red'\n",
    "            newsite = 2\n",
    "            print(\"transition blue->red at time = \", iter)\n",
    "    site = newsite\n",
    "    color = newcolor"
   ]
  },
  {
   "cell_type": "code",
   "execution_count": null,
   "metadata": {},
   "outputs": [],
   "source": []
  }
 ],
 "metadata": {
  "kernelspec": {
   "display_name": "Python 3",
   "language": "python",
   "name": "python3"
  },
  "language_info": {
   "codemirror_mode": {
    "name": "ipython",
    "version": 3
   },
   "file_extension": ".py",
   "mimetype": "text/x-python",
   "name": "python",
   "nbconvert_exporter": "python",
   "pygments_lexer": "ipython3",
   "version": "3.8.3"
  }
 },
 "nbformat": 4,
 "nbformat_minor": 4
}
